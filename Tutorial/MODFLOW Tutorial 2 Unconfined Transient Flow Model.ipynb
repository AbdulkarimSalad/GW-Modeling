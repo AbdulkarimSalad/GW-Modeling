{
 "cells": [
  {
   "cell_type": "markdown",
   "id": "920f89c0",
   "metadata": {},
   "source": [
    "# MODFLOW Tutorial 1: Confined Steady-State Flow Model"
   ]
  },
  {
   "cell_type": "markdown",
   "id": "57355811",
   "metadata": {},
   "source": [
    "This tutorial demonstrates use of FloPy to develop a simple MODFLOW-2005 model."
   ]
  },
  {
   "cell_type": "markdown",
   "id": "7a6ece54",
   "metadata": {},
   "source": [
    "## Getting Started"
   ]
  },
  {
   "cell_type": "markdown",
   "id": "9b1a4c4e",
   "metadata": {},
   "source": [
    "If FloPy has been properly installed, then it can be imported as follows:"
   ]
  },
  {
   "cell_type": "code",
   "execution_count": 1,
   "id": "76bdbce0",
   "metadata": {},
   "outputs": [],
   "source": [
    "import numpy as np"
   ]
  },
  {
   "cell_type": "code",
   "execution_count": 2,
   "id": "49e2c784",
   "metadata": {},
   "outputs": [],
   "source": [
    "import flopy"
   ]
  },
  {
   "cell_type": "markdown",
   "id": "8d21f050",
   "metadata": {},
   "source": [
    "Now that we can import flopy, we begin creating our simple MODFLOW model. numpy is imported to create arrays of model data."
   ]
  },
  {
   "cell_type": "markdown",
   "id": "f1540e79",
   "metadata": {},
   "source": [
    "# Creating the MODFLOW Model"
   ]
  },
  {
   "cell_type": "markdown",
   "id": "af017ab8",
   "metadata": {},
   "source": [
    "One of the nice things about creating models in python is that it is very easy to change one or two things and completely change the grid resolution for your model. So in this example, we will design our python script so that the number of layers, columns, and rows can be easily changed.\n",
    "\n",
    "We can create a very simple MODFLOW model that has a basic package (BAS), discretization input file (DIS), layer-property flow (LPF) package, output control (OC), and preconditioned conjugate gradient (PCG) solver. Each one of these has its own input file, which will be created automatically by flopy, provided that we pass flopy the correct information."
   ]
  },
  {
   "cell_type": "markdown",
   "id": "7de30920",
   "metadata": {},
   "source": [
    "## Discretization"
   ]
  },
  {
   "cell_type": "markdown",
   "id": "eb01b6b6",
   "metadata": {},
   "source": [
    "We start by creating our flopy model object."
   ]
  },
  {
   "cell_type": "code",
   "execution_count": 3,
   "id": "07fb481c",
   "metadata": {},
   "outputs": [],
   "source": [
    "modelname = \"tutorial1_mf\"\n",
    "mf = flopy.modflow.Modflow(modelname, exe_name=\"mf2005\")"
   ]
  },
  {
   "cell_type": "markdown",
   "id": "d8d62045",
   "metadata": {},
   "source": [
    "Next, let’s proceed by defining our model domain and creating a MODFLOW grid to span the domain."
   ]
  },
  {
   "cell_type": "code",
   "execution_count": 4,
   "id": "7a517543",
   "metadata": {},
   "outputs": [],
   "source": [
    "Lx = 1000.0\n",
    "Ly = 1000.0\n",
    "ztop = 0.0\n",
    "zbot = -50.0\n",
    "nlay = 1\n",
    "nrow = 10\n",
    "ncol = 10\n",
    "delr = Lx / ncol\n",
    "delc = Ly / nrow\n",
    "delv = (ztop - zbot) / nlay\n",
    "botm = np.linspace(ztop, zbot, nlay + 1)"
   ]
  },
  {
   "cell_type": "markdown",
   "id": "e5bf4300",
   "metadata": {},
   "source": [
    "With this information, we can now create the flopy discretization object by entering the following:"
   ]
  },
  {
   "cell_type": "code",
   "execution_count": 5,
   "id": "12bf39f6",
   "metadata": {},
   "outputs": [],
   "source": [
    "dis = flopy.modflow.ModflowDis(\n",
    "    mf, nlay, nrow, ncol, delr=delr, delc=delc, top=ztop, botm=botm[1:]\n",
    ")"
   ]
  },
  {
   "cell_type": "markdown",
   "id": "0e24152e",
   "metadata": {},
   "source": [
    "## Basic Package"
   ]
  },
  {
   "cell_type": "markdown",
   "id": "d9ae1b57",
   "metadata": {},
   "source": [
    "Next we can create a flopy object that represents the MODFLOW Basic Package. For this simple model, we will assign constant head values of 10. and 0. to the first and last model columns (in all layers), respectively. The python code for doing this is:"
   ]
  },
  {
   "cell_type": "code",
   "execution_count": 6,
   "id": "e7575660",
   "metadata": {},
   "outputs": [],
   "source": [
    "ibound = np.ones((nlay, nrow, ncol), dtype=np.int32)\n",
    "ibound[:, :, 0] = -1\n",
    "ibound[:, :, -1] = -1\n",
    "strt = np.ones((nlay, nrow, ncol), dtype=np.float32)\n",
    "strt[:, :, 0] = 10.0\n",
    "strt[:, :, -1] = 0.0\n",
    "bas = flopy.modflow.ModflowBas(mf, ibound=ibound, strt=strt)"
   ]
  },
  {
   "cell_type": "markdown",
   "id": "e9e7afc9",
   "metadata": {},
   "source": [
    "## Layer-Property Flow Package"
   ]
  },
  {
   "cell_type": "markdown",
   "id": "40ea80c9",
   "metadata": {},
   "source": [
    "Constant values of 10. are assigned for the horizontal and vertical hydraulic conductivity:"
   ]
  },
  {
   "cell_type": "code",
   "execution_count": 7,
   "id": "3a5962a2",
   "metadata": {},
   "outputs": [],
   "source": [
    "lpf = flopy.modflow.ModflowLpf(mf, hk=10.0, vka=10.0, ipakcb=53)"
   ]
  },
  {
   "cell_type": "markdown",
   "id": "6f83452d",
   "metadata": {},
   "source": [
    "Because we did not specify a value for laytyp, Flopy will use the default value of 0, which means that this model will be confined."
   ]
  },
  {
   "cell_type": "markdown",
   "id": "21101f1d",
   "metadata": {},
   "source": [
    "## Output Control"
   ]
  },
  {
   "cell_type": "markdown",
   "id": "3c8428c4",
   "metadata": {},
   "source": [
    "Here we can use the default OC settings by specifying the following:"
   ]
  },
  {
   "cell_type": "code",
   "execution_count": 8,
   "id": "6f317b24",
   "metadata": {},
   "outputs": [],
   "source": [
    "spd = {(0, 0): [\"print head\", \"print budget\", \"save head\", \"save budget\"]}\n",
    "oc = flopy.modflow.ModflowOc(mf, stress_period_data=spd, compact=True)"
   ]
  },
  {
   "cell_type": "markdown",
   "id": "67d5dd0e",
   "metadata": {},
   "source": [
    "The stress period dictionary is used to set what output is saved for the corresponding stress period and time step. In this case, the tuple (0, 0) means that stress period 1 and time step 1 for MODFLOW will have output saved. Head and budgets will be printed and head and budget information will be saved"
   ]
  },
  {
   "cell_type": "markdown",
   "id": "625cfbeb",
   "metadata": {},
   "source": [
    "# Preconditioned Conjugate Gradient Package"
   ]
  },
  {
   "cell_type": "markdown",
   "id": "39410750",
   "metadata": {},
   "source": [
    "The default settings used by flopy will be used by specifying the following commands:"
   ]
  },
  {
   "cell_type": "code",
   "execution_count": 9,
   "id": "fe17d4b0",
   "metadata": {},
   "outputs": [],
   "source": [
    "pcg = flopy.modflow.ModflowPcg(mf)"
   ]
  },
  {
   "cell_type": "markdown",
   "id": "f7a3fc45",
   "metadata": {},
   "source": [
    "## Writing the MODFLOW Data Files"
   ]
  },
  {
   "cell_type": "markdown",
   "id": "8aee77bf",
   "metadata": {},
   "source": [
    "The MODFLOW input data files are written by simply issuing the following:"
   ]
  },
  {
   "cell_type": "code",
   "execution_count": 10,
   "id": "f31d7ce7",
   "metadata": {},
   "outputs": [],
   "source": [
    "mf.write_input()"
   ]
  },
  {
   "cell_type": "markdown",
   "id": "a161bfff",
   "metadata": {},
   "source": [
    "## Running the Model"
   ]
  },
  {
   "cell_type": "markdown",
   "id": "60b20752",
   "metadata": {},
   "source": [
    "Flopy can also be used to run the model. The model object (mf in this example) has an attached method that will run the model. For this to work, the MODFLOW program must be located somewhere within the system path, or within the working directory. In this example, we have specified that the name of the executable program is ‘mf2005’. Issue the following to run the model:"
   ]
  },
  {
   "cell_type": "code",
   "execution_count": 11,
   "id": "51fd04b2",
   "metadata": {},
   "outputs": [
    {
     "name": "stdout",
     "output_type": "stream",
     "text": [
      "FloPy is using the following executable to run the model: ..\\..\\..\\..\\..\\..\\002 Modflow-PEST\\mf2005.exe\n",
      "\n",
      "                                  MODFLOW-2005     \n",
      "    U.S. GEOLOGICAL SURVEY MODULAR FINITE-DIFFERENCE GROUND-WATER FLOW MODEL\n",
      "                             Version 1.12.00 2/3/2017                        \n",
      "\n",
      " Using NAME file: tutorial1_mf.nam \n",
      " Run start date and time (yyyy/mm/dd hh:mm:ss): 2024/03/21  6:44:04\n",
      "\n",
      " Solving:  Stress period:     1    Time step:     1    Ground-Water Flow Eqn.\n",
      " Run end date and time (yyyy/mm/dd hh:mm:ss): 2024/03/21  6:44:04\n",
      " Elapsed run time:  0.005 Seconds\n",
      "\n",
      "  Normal termination of simulation\n"
     ]
    }
   ],
   "source": [
    "success, buff = mf.run_model()\n",
    "if not success:\n",
    "    raise Exception(\"MODFLOW did not terminate normally.\")"
   ]
  },
  {
   "cell_type": "markdown",
   "id": "1659278c",
   "metadata": {},
   "source": [
    "Here we have used run_model, and we could also have specified values for the optional keywords silent, pause, and report."
   ]
  },
  {
   "cell_type": "markdown",
   "id": "f0eceeb0",
   "metadata": {},
   "source": [
    "### Post-Processing the Results"
   ]
  },
  {
   "cell_type": "markdown",
   "id": "90cf71be",
   "metadata": {},
   "source": [
    "Now that we have successfully built and run our MODFLOW model, we can look at the results. MODFLOW writes the simulated heads to a binary data output file. We cannot look at these heads with a text editor, but flopy has a binary utility that can be used to read the heads. The following statements will read the binary head file and create a plot of simulated heads for layer 1:"
   ]
  },
  {
   "cell_type": "code",
   "execution_count": 12,
   "id": "4eb7f253",
   "metadata": {},
   "outputs": [],
   "source": [
    "import matplotlib.pyplot as plt"
   ]
  },
  {
   "cell_type": "code",
   "execution_count": 13,
   "id": "781a3176",
   "metadata": {},
   "outputs": [],
   "source": [
    "import flopy.utils.binaryfile as bf"
   ]
  },
  {
   "cell_type": "markdown",
   "id": "cd8ded89",
   "metadata": {},
   "source": [
    "##### Extract the heads"
   ]
  },
  {
   "cell_type": "code",
   "execution_count": 14,
   "id": "08a1e631",
   "metadata": {},
   "outputs": [],
   "source": [
    "hds = bf.HeadFile(f\"{modelname}.hds\")\n",
    "head = hds.get_data(totim=1.0)"
   ]
  },
  {
   "cell_type": "markdown",
   "id": "f0f38a5e",
   "metadata": {},
   "source": [
    "##### Contour the heads"
   ]
  },
  {
   "cell_type": "code",
   "execution_count": 15,
   "id": "d6d5b9bd",
   "metadata": {},
   "outputs": [
    {
     "data": {
      "text/plain": [
       "<matplotlib.contour.QuadContourSet at 0x263393fd2d0>"
      ]
     },
     "execution_count": 15,
     "metadata": {},
     "output_type": "execute_result"
    },
    {
     "data": {
      "image/png": "[encoded data removed]",
      "text/plain": [
       "<Figure size 600x600 with 1 Axes>"
      ]
     },
     "metadata": {},
     "output_type": "display_data"
    }
   ],
   "source": [
    "extent = (delr / 2.0, Lx - delr / 2.0, Ly - delc / 2.0, delc / 2.0)\n",
    "fig = plt.figure(figsize=(6, 6))\n",
    "ax = fig.add_subplot(1, 1, 1, aspect=\"equal\")\n",
    "ax.contour(head[0, :, :], levels=np.arange(1, 10, 1), extent=extent)"
   ]
  },
  {
   "cell_type": "markdown",
   "id": "05cfd4bf",
   "metadata": {},
   "source": [
    "Flopy also has some pre-canned plotting capabilities can can be accessed using the PlotMapView() class. The following code shows how to use the plotmapview class to plot boundary conditions (IBOUND), plot the grid, plot head contours, and plot vectors:"
   ]
  },
  {
   "cell_type": "code",
   "execution_count": 16,
   "id": "39d20561",
   "metadata": {},
   "outputs": [],
   "source": [
    "# Extract the heads\n",
    "hds = bf.HeadFile(f\"{modelname}.hds\")\n",
    "times = hds.get_times()\n",
    "head = hds.get_data(totim=times[-1])"
   ]
  },
  {
   "cell_type": "markdown",
   "id": "a4c0bcd6",
   "metadata": {},
   "source": [
    "##### Extract the cell-by-cell flows"
   ]
  },
  {
   "cell_type": "code",
   "execution_count": 17,
   "id": "a7f03469",
   "metadata": {},
   "outputs": [],
   "source": [
    "cbb = bf.CellBudgetFile(f\"{modelname}.cbc\")\n",
    "kstpkper_list = cbb.get_kstpkper()\n",
    "frf = cbb.get_data(text=\"FLOW RIGHT FACE\", totim=times[-1])[0]\n",
    "fff = cbb.get_data(text=\"FLOW FRONT FACE\", totim=times[-1])[0]\n",
    "qx, qy, qz = flopy.utils.postprocessing.get_specific_discharge(\n",
    "    (frf, fff, None), mf, head\n",
    ")"
   ]
  },
  {
   "cell_type": "markdown",
   "id": "24e265e5",
   "metadata": {},
   "source": [
    "###### Create the figure"
   ]
  },
  {
   "cell_type": "code",
   "execution_count": 18,
   "id": "7c55514b",
   "metadata": {},
   "outputs": [
    {
     "data": {
      "image/png": "[encoded data removed]",
      "text/plain": [
       "<Figure size 600x600 with 1 Axes>"
      ]
     },
     "metadata": {},
     "output_type": "display_data"
    }
   ],
   "source": [
    "fig = plt.figure(figsize=(6, 6))\n",
    "ax = fig.add_subplot(1, 1, 1, aspect=\"equal\")\n",
    "modelmap = flopy.plot.PlotMapView(model=mf, layer=0, ax=ax)\n",
    "qm = modelmap.plot_ibound()\n",
    "lc = modelmap.plot_grid()\n",
    "cs = modelmap.contour_array(head, levels=np.linspace(0, 10, 11))\n",
    "quiver = modelmap.plot_vector(qx, qy)"
   ]
  }
 ],
 "metadata": {
  "kernelspec": {
   "display_name": "Python 3 (ipykernel)",
   "language": "python",
   "name": "python3"
  },
  "language_info": {
   "codemirror_mode": {
    "name": "ipython",
    "version": 3
   },
   "file_extension": ".py",
   "mimetype": "text/x-python",
   "name": "python",
   "nbconvert_exporter": "python",
   "pygments_lexer": "ipython3",
   "version": "3.11.8"
  }
 },
 "nbformat": 4,
 "nbformat_minor": 5
}
