{
 "cells": [
  {
   "cell_type": "code",
   "execution_count": 1,
   "id": "ee14ed36-1c71-4666-8123-67d0d18e73a9",
   "metadata": {},
   "outputs": [],
   "source": [
    "import os\n",
    "import flopy\n",
    "\n",
    "# Initialize the model\n",
    "# Create the model object\n",
    "modelname = 'mf_theis'  # name of the model\n",
    "model_ws = os.path.join(os.getcwd(), 'mf_theis')  # model workspace\n",
    "\n",
    "model = flopy.modflow.Modflow(\n",
    "    modelname,\n",
    "    exe_name='mf2005',\n",
    "    model_ws=model_ws,\n",
    "    verbose=True\n",
    ")"
   ]
  },
  {
   "cell_type": "code",
   "execution_count": null,
   "id": "20c34c30-ad30-4333-ad37-b7338d7c5fcb",
   "metadata": {},
   "outputs": [],
   "source": []
  }
 ],
 "metadata": {
  "kernelspec": {
   "display_name": "Python 3 (ipykernel)",
   "language": "python",
   "name": "python3"
  },
  "language_info": {
   "codemirror_mode": {
    "name": "ipython",
    "version": 3
   },
   "file_extension": ".py",
   "mimetype": "text/x-python",
   "name": "python",
   "nbconvert_exporter": "python",
   "pygments_lexer": "ipython3",
   "version": "3.11.8"
  }
 },
 "nbformat": 4,
 "nbformat_minor": 5
}
